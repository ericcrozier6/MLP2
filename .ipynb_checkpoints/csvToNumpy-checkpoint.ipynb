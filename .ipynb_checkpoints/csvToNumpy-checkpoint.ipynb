{
 "cells": [
  {
   "cell_type": "code",
   "execution_count": 10,
   "id": "1e4bdcc5",
   "metadata": {},
   "outputs": [
    {
     "name": "stdout",
     "output_type": "stream",
     "text": [
      "6\n"
     ]
    }
   ],
   "source": [
    "import numpy as np\n",
    "import pandas as pd\n",
    "import scipy.sparse\n",
    "\n",
    "df = pd.read_csv('training.csv')\n",
    "print('1')\n",
    "matrix = scipy.sparse.csr_matrix(df.to_numpy())\n",
    "print('2')\n",
    "print(matrix.toarray())\n",
    "print('3')\n",
    "\n",
    "scipy.sparse.save_npz('matrix.npz', matrix)\n",
    "print(done)\n",
    "\n",
    "\n",
    "sparse_matrix = scipy.sparse.load_npz('matrix.npz')\n",
    "print(sparse_matrix.toarray()[1000][12])"
   ]
  },
  {
   "cell_type": "code",
   "execution_count": null,
   "id": "297f52de",
   "metadata": {},
   "outputs": [],
   "source": []
  }
 ],
 "metadata": {
  "kernelspec": {
   "display_name": "Python 3",
   "language": "python",
   "name": "python3"
  },
  "language_info": {
   "codemirror_mode": {
    "name": "ipython",
    "version": 3
   },
   "file_extension": ".py",
   "mimetype": "text/x-python",
   "name": "python",
   "nbconvert_exporter": "python",
   "pygments_lexer": "ipython3",
   "version": "3.8.8"
  }
 },
 "nbformat": 4,
 "nbformat_minor": 5
}
