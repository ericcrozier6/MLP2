{
 "cells": [
  {
   "cell_type": "code",
   "execution_count": 1,
   "id": "0fbee7fa",
   "metadata": {},
   "outputs": [],
   "source": [
    "import numpy as np\n",
    "import pandas as pd\n",
    "import scipy.sparse\n",
    "import math"
   ]
  },
  {
   "cell_type": "code",
   "execution_count": 2,
   "id": "70cf3941",
   "metadata": {},
   "outputs": [],
   "source": [
    "\n",
    "#load sparse matrix\n",
    "sparse_matrix = scipy.sparse.load_npz('matrix.npz')\n",
    "matrix = sparse_matrix.toarray()\n",
    "#print specific values\n",
    "\n",
    "#row 12 if the word 'of', so most news stories have it\n",
    "# print('matrix[1000][12]')\n",
    "# print(matrix[1000][12])"
   ]
  },
  {
   "cell_type": "code",
   "execution_count": 3,
   "id": "a39e17b6",
   "metadata": {},
   "outputs": [],
   "source": [
    "#variables\n",
    "\n",
    "f = open(\"vocabulary.txt\", \"r\") \n",
    "\n",
    "#vocab length\n",
    "V = len(f.readlines())\n",
    "\n",
    "\n",
    "beta = 1 / V\n",
    "alpha = 1 + beta\n",
    "\n",
    "shape0 = matrix.shape[0]"
   ]
  },
  {
   "cell_type": "code",
   "execution_count": 17,
   "id": "e31f31eb",
   "metadata": {},
   "outputs": [
    {
     "name": "stdout",
     "output_type": "stream",
     "text": [
      "0.05308775731310943\n",
      "1.0055914771736321e-10\n",
      "19\n"
     ]
    }
   ],
   "source": [
    "\n",
    "\n",
    "#load sparse matrix\n",
    "#change to whatever npz file you want to use\n",
    "sparse_matrix = scipy.sparse.load_npz('matrix.npz')\n",
    "matrix = sparse_matrix.toarray()\n",
    "\n",
    "\n",
    "#MLE function\n",
    "#takes in a new label labelY (0-20)\n",
    "#returns how many docs labeled the same as labelY / total docs\n",
    "def MLE(labelY):\n",
    "    labelCount = 0\n",
    "    for i in range(shape0):\n",
    "        if(matrix[i][-1] == labelY):\n",
    "            labelCount += 1\n",
    "    return labelCount / shape0\n",
    "\n",
    "#MAP function\n",
    "#takes in a wordI, which is 1 word used in the docs \n",
    "#takes in a labelY (0-20)\n",
    "def MAP(wordI, labelY):\n",
    "    wordCount = 0\n",
    "    totalYCount = 0\n",
    "    \n",
    "    #loop through rows\n",
    "    for i in range(matrix.shape[0]):\n",
    "        #is label of row == labelY\n",
    "        if(matrix[i][-1] == labelY):\n",
    "            \n",
    "            #add however many times wordI is used to counter\n",
    "            wordCount += matrix[i][wordI]  \n",
    "            \n",
    "            #add total words in labelY row to counter\n",
    "            #subtract [i][0] and [i][-1] to not include first (doc ID) and last (label) column\n",
    "            totalYCount += sum(matrix[i]) - matrix[i][0] - matrix[i][-1]\n",
    "            \n",
    "    #return formula given\n",
    "    return (wordCount + beta) / (totalYCount + beta * V)\n",
    "\n",
    "\n",
    "def classify(wordI):\n",
    "    wordCount = 0\n",
    "    arr = []\n",
    "    for i in range(matrix.shape[0]):\n",
    "            #add however many times wordI is used to counter\n",
    "            wordCount += matrix[i][wordI]          \n",
    "    for i in range(20):\n",
    "        mp = math.log(MAP(wordI,i),2)\n",
    "        mle = MLE(i)\n",
    "        if(mle > 0):\n",
    "            mle = math.log(mle,2)\n",
    "        arr.append(mle + (wordCount * mp) )   \n",
    "    idx = arr.index(max(arr))    \n",
    "    return idx + 1\n",
    "\n",
    "#prints MLE for news label 15\n",
    "print(MLE(15))\n",
    "#prints MAP for xi = word 677, and label 15\n",
    "print(MAP(6000,15))\n",
    "print(classify(15))"
   ]
  },
  {
   "cell_type": "code",
   "execution_count": null,
   "id": "99975a01",
   "metadata": {},
   "outputs": [],
   "source": []
  }
 ],
 "metadata": {
  "kernelspec": {
   "display_name": "Python 3",
   "language": "python",
   "name": "python3"
  },
  "language_info": {
   "codemirror_mode": {
    "name": "ipython",
    "version": 3
   },
   "file_extension": ".py",
   "mimetype": "text/x-python",
   "name": "python",
   "nbconvert_exporter": "python",
   "pygments_lexer": "ipython3",
   "version": "3.8.8"
  }
 },
 "nbformat": 4,
 "nbformat_minor": 5
}
