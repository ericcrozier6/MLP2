{
 "cells": [
  {
   "cell_type": "code",
   "execution_count": 1,
   "id": "0fbee7fa",
   "metadata": {},
   "outputs": [],
   "source": [
    "import numpy as np\n",
    "import pandas as pd\n",
    "import scipy.sparse"
   ]
  },
  {
   "cell_type": "code",
   "execution_count": 2,
   "id": "70cf3941",
   "metadata": {},
   "outputs": [],
   "source": [
    "\n",
    "#load sparse matrix\n",
    "sparse_matrix = scipy.sparse.load_npz('matrix.npz')\n",
    "matrix = sparse_matrix.toarray()\n",
    "#print specific values\n",
    "\n",
    "#row 12 if the word 'of', so most news stories have it\n",
    "# print('matrix[1000][12]')\n",
    "# print(matrix[1000][12])"
   ]
  },
  {
   "cell_type": "code",
   "execution_count": 13,
   "id": "8b7d9fee",
   "metadata": {},
   "outputs": [
    {
     "name": "stdout",
     "output_type": "stream",
     "text": [
      "61188\n"
     ]
    }
   ],
   "source": [
    "#variables\n",
    "\n",
    "f = open(\"vocabulary.txt\", \"r\") \n",
    "\n",
    "#vocab length\n",
    "V = len(f.readlines())\n",
    "\n",
    "\n",
    "beta = 1 / V\n",
    "alpha = 1 + beta\n"
   ]
  },
  {
   "cell_type": "code",
   "execution_count": 19,
   "id": "e31f31eb",
   "metadata": {},
   "outputs": [
    {
     "name": "stdout",
     "output_type": "stream",
     "text": [
      "637\n",
      "1.0055914771736321e-10\n"
     ]
    }
   ],
   "source": [
    "\n",
    "\n",
    "def MLE(labelY):\n",
    "    counter = 0\n",
    "    labelCount = 0\n",
    "    for i in range(matrix.shape[0]):\n",
    "        if(matrix[i][-1] == labelY):\n",
    "            labelCount += 1\n",
    "    return labelCount\n",
    "\n",
    "\n",
    "def MAP(wordI, labelY):\n",
    "    wordCount = 0\n",
    "    totalYCount = 0\n",
    "    for i in range(matrix.shape[0]):\n",
    "        if(matrix[i][-1] == labelY):\n",
    "            wordCount += matrix[i][wordI]     \n",
    "            totalYCount += sum(matrix[i]) - matrix[i][-1] - matrix[i][0]\n",
    "    \n",
    "    return (wordCount + beta) / (totalYCount + beta * V)\n",
    "\n",
    "#prints MLE for news label 15\n",
    "print(MLE(15))\n",
    "#prints MAP for xi = word 677, and label 15\n",
    "print(MAP(677,15))\n"
   ]
  },
  {
   "cell_type": "code",
   "execution_count": null,
   "id": "a08d947c",
   "metadata": {},
   "outputs": [],
   "source": []
  }
 ],
 "metadata": {
  "kernelspec": {
   "display_name": "Python 3",
   "language": "python",
   "name": "python3"
  },
  "language_info": {
   "codemirror_mode": {
    "name": "ipython",
    "version": 3
   },
   "file_extension": ".py",
   "mimetype": "text/x-python",
   "name": "python",
   "nbconvert_exporter": "python",
   "pygments_lexer": "ipython3",
   "version": "3.8.8"
  }
 },
 "nbformat": 4,
 "nbformat_minor": 5
}
