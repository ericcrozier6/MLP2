{
 "cells": [
  {
   "cell_type": "code",
   "execution_count": 9,
   "id": "0fbee7fa",
   "metadata": {},
   "outputs": [],
   "source": [
    "import numpy as np\n",
    "import pandas as pd\n",
    "import scipy.sparse\n",
    "import math\n",
    "import statistics\n",
    "from statistics import mode"
   ]
  },
  {
   "cell_type": "code",
   "execution_count": 10,
   "id": "70cf3941",
   "metadata": {},
   "outputs": [],
   "source": [
    "\n",
    "#load sparse matrix\n",
    "sparse_matrix = scipy.sparse.load_npz('training.npz')\n",
    "matrix = sparse_matrix.toarray()\n",
    "#print specific values\n",
    "\n",
    "#row 12 if the word 'of', so most news stories have it\n",
    "# print('matrix[1000][12]')\n",
    "# print(matrix[1000][12])"
   ]
  },
  {
   "cell_type": "code",
   "execution_count": 12,
   "id": "a39e17b6",
   "metadata": {},
   "outputs": [
    {
     "name": "stdout",
     "output_type": "stream",
     "text": [
      "{1.0: 483, 2.0: 624, 3.0: 622, 4.0: 643, 5.0: 602, 6.0: 630, 7.0: 618, 8.0: 614, 9.0: 649, 10.0: 628, 11.0: 646, 12.0: 639, 13.0: 626, 14.0: 621, 15.0: 637, 16.0: 651, 17.0: 580, 18.0: 593, 19.0: 467, 20.0: 427}\n"
     ]
    }
   ],
   "source": [
    "#variables\n",
    "\n",
    "f = open(\"vocabulary.txt\", \"r\") \n",
    "\n",
    "#vocab length\n",
    "V = len(f.readlines())\n",
    "\n",
    "#beta and alpha values\n",
    "beta = 1 / V\n",
    "alpha = 1 + beta\n",
    "\n",
    "#shape of matrix rows\n",
    "shape0 = matrix.shape[0]\n",
    "\n",
    "\n",
    "#turn far right col into its own matrix\n",
    "ys = np.zeros(shape=(matrix.shape[0],1))\n",
    "for i in range(shape0):\n",
    "    ys[i][0] = matrix[i][-1]\n",
    "#create a dictionary of the 20 labels and their occurences    \n",
    "unique, counts = np.unique(ys, return_counts=True)\n",
    "counts = dict(zip(unique, counts))\n",
    "\n",
    "\n",
    "columnIndex = -1 \n",
    "# Sort 2D numpy array by 2nd Column\n",
    "\n",
    "#recreate matrix but sorted by last col value\n",
    "sortedArr = matrix[matrix[:,columnIndex].argsort()]\n",
    "\n",
    "\n",
    "#create list of each of the 20 classifiers positions in the matrix\n",
    "amounts = []\n",
    "counter = 0\n",
    "index = 1\n",
    "for i in range(sortedArr.shape[0]):\n",
    "    if(index == sortedArr[i][-1]):\n",
    "        counter+=1\n",
    "    elif(i == sortedArr.shape[0] - 1):\n",
    "        amounts.append([index,counter])       \n",
    "    else:\n",
    "        amounts.append([index,counter])\n",
    "        index = sortedArr[i][-1]\n",
    "        counter += 1\n",
    "#amounts is the amount of each label in each doc (list of lists)        \n",
    "amounts.append([20,sortedArr.shape[0]])\n",
    "print(amounts)\n"
   ]
  },
  {
   "cell_type": "code",
   "execution_count": null,
   "id": "f194b2b5",
   "metadata": {},
   "outputs": [],
   "source": []
  },
  {
   "cell_type": "code",
   "execution_count": 13,
   "id": "e31f31eb",
   "metadata": {},
   "outputs": [
    {
     "name": "stdout",
     "output_type": "stream",
     "text": [
      "Wall time: 0 ns\n"
     ]
    }
   ],
   "source": [
    "%%time\n",
    "\n",
    "#MLE function\n",
    "#takes in a new label labelY (0-20)\n",
    "#returns how many docs labeled the same as labelY / total docs\n",
    "def MLE(labelY):\n",
    "    #counts is a dictionary of label occurences\n",
    "    return counts[labelY + 1]/shape0\n",
    "    \n",
    "#MLE will have to change for testing set    \n",
    "\n",
    "\n",
    "#map\n",
    "def MAP(wordI,labelY):\n",
    "    totalWords = 0\n",
    "    totalY = 0\n",
    "    #if label is 1, its a different algorithm\n",
    "    if(labelY == 1):\n",
    "        #basically sum the sorted array from for the column wordI for the label 1\n",
    "        slice1 = amounts[0][1]\n",
    "        totalWords = sum(sum(sortedArr[:slice1,[wordI]]))\n",
    "        #sum all words for label 1\n",
    "        totalY = sum(sum(sortedArr[:slice1,1:-2]))\n",
    "    else: \n",
    "        slice1 = amounts[labelY -2][1]\n",
    "        slice2 = amounts[labelY - 1][1]\n",
    "        #sum all wordI for label\n",
    "        totalWords = sum(sum(sortedArr[slice1:slice2,[wordI]]))\n",
    "        #sum all words in the label, except first and last\n",
    "        totalY = sum(sum(sortedArr[slice1:slice2,1:-2]))\n",
    "    return (totalWords + beta) / (totalY + beta * V)\n",
    "\n",
    "\n",
    "def classify(wordI):\n",
    "    wordCount = matrix[:, wordI].sum()\n",
    "    arr = []\n",
    "    #loop through all 20 labels        \n",
    "    for i in range(20):\n",
    "        #take the MLE and MAP for all labels\n",
    "        mp = math.log(MAP(wordI,i),2)\n",
    "        mle = MLE(i)\n",
    "        if(mle > 0):\n",
    "            mle = math.log(mle,2)\n",
    "        #add to list    \n",
    "        arr.append(mle + (wordCount * mp) )   \n",
    "    #return the most likely label     \n",
    "    idx = arr.index(max(arr)) \n",
    "    return idx + 1\n",
    "\n",
    "    \n",
    "\n",
    "dic = {}\n",
    "#classifies all words in a given doc\n",
    "def allWordsClassify(row):\n",
    "    #take row and get all non zero elements \n",
    "    areRow = matrix[row-1,:]\n",
    "    indexes = np.nonzero(areRow)\n",
    "    pred = []\n",
    "    #loop through all words in doc\n",
    "    for i in indexes:\n",
    "        for j in i:\n",
    "            #if we have classified the word then dont bother classifying again \n",
    "            if j in dic:\n",
    "                pred.append(dic[j])\n",
    "            else:\n",
    "                cls = classify(j)\n",
    "                pred.append(cls)\n",
    "                dic[j] = cls\n",
    "        break    \n",
    "    #return most highest predicted label    \n",
    "    return mode(pred)\n",
    "\n",
    "\n"
   ]
  },
  {
   "cell_type": "code",
   "execution_count": 14,
   "id": "99975a01",
   "metadata": {
    "scrolled": true
   },
   "outputs": [
    {
     "name": "stdout",
     "output_type": "stream",
     "text": [
      "prediction:\n",
      "[6, 16, 7, 14, 16, 6, 18, 0, 18, 13, 10, 8, 10, 3, 7, 15, 3, 1, 10, 16, 18, 2, 13, 5, 4, 7, 16, 13, 18, 8, 6, 7, 12, 4, 5, 1, 7, 12, 3, 0, 10, 3, 10, 7, 16, 17, 11, 16, 7, 13, 16, 12, 14, 1, 5, 18, 18, 5, 8, 1, 10, 17, 4, 8, 3, 6, 1, 1, 13, 2, 18, 7, 10, 10, 11, 1, 14, 1, 7, 12, 10, 16, 9, 8, 1, 18, 4, 7, 5, 11, 6, 15, 0, 7, 12, 16, 16, 1, 6, 16]\n",
      "actual\n",
      "[6, 16, 15, 14, 16, 6, 18, 20, 18, 13, 10, 8, 10, 3, 7, 15, 3, 1, 10, 16, 11, 2, 13, 5, 4, 7, 20, 13, 18, 8, 6, 7, 12, 4, 5, 17, 3, 12, 3, 20, 15, 3, 10, 9, 16, 17, 11, 16, 4, 13, 16, 12, 14, 1, 5, 18, 6, 5, 8, 3, 2, 17, 7, 8, 3, 6, 16, 16, 13, 2, 18, 7, 10, 10, 11, 1, 14, 20, 15, 12, 10, 16, 9, 8, 1, 18, 4, 19, 5, 11, 6, 15, 20, 7, 12, 16, 16, 19, 6, 16]\n"
     ]
    },
    {
     "ename": "NameError",
     "evalue": "name 'p' is not defined",
     "output_type": "error",
     "traceback": [
      "\u001b[1;31m---------------------------------------------------------------------------\u001b[0m",
      "\u001b[1;31mNameError\u001b[0m                                 Traceback (most recent call last)",
      "\u001b[1;32m<timed exec>\u001b[0m in \u001b[0;36m<module>\u001b[1;34m\u001b[0m\n",
      "\u001b[1;31mNameError\u001b[0m: name 'p' is not defined"
     ]
    }
   ],
   "source": [
    "%%time\n",
    "ls = []\n",
    "start = 100\n",
    "end = 200\n",
    "for i in range(start,end):\n",
    "    ls.append(allWordsClassify(i))\n",
    "    \n",
    "    \n",
    "actual = []\n",
    "for i in range(start,end):\n",
    "    actual.append(matrix[i - 1][-1])\n",
    "count = 0\n",
    "print(\"prediction:\")\n",
    "pred = [x - 1 for x in ls]\n",
    "print(pred)\n",
    "print(\"actual\")\n",
    "print(actual)\n",
    "paPairs = zip(pred,actual)\n",
    "for prediction, actual in paPairs:\n",
    "    if prediction == actual:\n",
    "        count+=1\n",
    "print(count)        \n",
    "print(\"Percentage: \")\n",
    "print(count / (end - start))"
   ]
  },
  {
   "cell_type": "code",
   "execution_count": 15,
   "id": "dbd5606a",
   "metadata": {},
   "outputs": [
    {
     "name": "stdout",
     "output_type": "stream",
     "text": [
      "79\n",
      "Percentage: \n",
      "-99.605\n"
     ]
    }
   ],
   "source": []
  },
  {
   "cell_type": "code",
   "execution_count": null,
   "id": "12404234",
   "metadata": {},
   "outputs": [],
   "source": [
    "#backups\n",
    "\n",
    "    '''\n",
    "    labelCount = 0\n",
    "    for i in range(shape0):\n",
    "        if(matrix[i][-1] == labelY):\n",
    "            labelCount += 1\n",
    "    return labelCount / shape0\n",
    "    '''\n",
    "    \n",
    "'''\n",
    "#MAP function\n",
    "#takes in a wordI, which is 1 word used in the docs \n",
    "#takes in a labelY (0-20)\n",
    "def MAP(wordI, labelY):\n",
    "    wordCount = 0\n",
    "    totalYCount = 0\n",
    "    #create matrix of indexes of matrix with matching label\n",
    "    x = np.where(ys == labelY)\n",
    "    for num in x:\n",
    "        for y in num:\n",
    "            wordCount += matrix[y][wordI] \n",
    "            totalYCount += sum(matrix[y]) - matrix[y][0] - matrix[y][-1]\n",
    "        break\n",
    "            \n",
    "    #return formula given\n",
    "    print(\"wot\")\n",
    "    return (wordCount + beta) / (totalYCount + beta * V)\n",
    "\n",
    "\n",
    "X = sortedArr[:amounts[0][1],[-1]]\n",
    "#print(X)\n",
    "\n",
    "X = sortedArr[amounts[0][1]:amounts[1][1],[-1]]\n",
    "#print(X)\n",
    "X = sortedArr[amounts[1][1]:amounts[2][1],[-1]]\n",
    "#print(X)\n",
    "\n",
    "\n",
    "\n",
    "\n",
    "print(betterMAP(100,1))\n",
    "\n",
    "'''"
   ]
  },
  {
   "cell_type": "code",
   "execution_count": null,
   "id": "f4e82d28",
   "metadata": {},
   "outputs": [],
   "source": []
  }
 ],
 "metadata": {
  "kernelspec": {
   "display_name": "Python 3",
   "language": "python",
   "name": "python3"
  },
  "language_info": {
   "codemirror_mode": {
    "name": "ipython",
    "version": 3
   },
   "file_extension": ".py",
   "mimetype": "text/x-python",
   "name": "python",
   "nbconvert_exporter": "python",
   "pygments_lexer": "ipython3",
   "version": "3.8.8"
  }
 },
 "nbformat": 4,
 "nbformat_minor": 5
}
