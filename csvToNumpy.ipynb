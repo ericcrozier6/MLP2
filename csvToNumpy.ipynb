{
 "cells": [
  {
   "cell_type": "code",
   "execution_count": 14,
   "id": "1e4bdcc5",
   "metadata": {},
   "outputs": [
    {
     "name": "stdout",
     "output_type": "stream",
     "text": [
      "6\n",
      "0\n"
     ]
    }
   ],
   "source": [
    "import numpy as np\n",
    "import pandas as pd\n",
    "import scipy.sparse\n",
    "\n",
    "#uncomment if you need to csv -> npz with a file\n",
    "'''\n",
    "#read csv\n",
    "load_file = 'training.csv'\n",
    "df = pd.read_csv(load_file)\n",
    "\n",
    "#convert dataframe to numpy array\n",
    "#then create a sparse matrix from that\n",
    "matrix = scipy.sparse.csr_matrix(df.to_numpy())\n",
    "\n",
    "#print array just to see\n",
    "print(matrix.toarray())\n",
    "\n",
    "#save sparse array as npz file \n",
    "save_file = 'matrix.npz'\n",
    "scipy.sparse.save_npz(save_file, matrix)\n",
    "print(done)\n",
    "'''\n",
    "\n",
    "#load sparse matrix\n",
    "sparse_matrix = scipy.sparse.load_npz('matrix.npz')\n",
    "matrix = sparse_matrix.toarray()\n",
    "#print specific values\n",
    "\n",
    "#row 12 if the word 'of', so most news stories have it\n",
    "print(matrix[1000][12])\n",
    "\n",
    "#demonstrate we can grab deeeeep values in the matrix\n",
    "print(matrix[10000][10000])"
   ]
  },
  {
   "cell_type": "code",
   "execution_count": null,
   "id": "297f52de",
   "metadata": {},
   "outputs": [],
   "source": []
  }
 ],
 "metadata": {
  "kernelspec": {
   "display_name": "Python 3",
   "language": "python",
   "name": "python3"
  },
  "language_info": {
   "codemirror_mode": {
    "name": "ipython",
    "version": 3
   },
   "file_extension": ".py",
   "mimetype": "text/x-python",
   "name": "python",
   "nbconvert_exporter": "python",
   "pygments_lexer": "ipython3",
   "version": "3.8.8"
  }
 },
 "nbformat": 4,
 "nbformat_minor": 5
}
